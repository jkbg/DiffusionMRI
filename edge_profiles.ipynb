{
 "cells": [
  {
   "cell_type": "markdown",
   "metadata": {},
   "source": [
    "# Imports"
   ]
  },
  {
   "cell_type": "code",
   "execution_count": 1,
   "metadata": {},
   "outputs": [
    {
     "ename": "ImportError",
     "evalue": "cannot import name 'rgb2gray'",
     "output_type": "error",
     "traceback": [
      "\u001b[0;31m---------------------------------------------------------------------------\u001b[0m",
      "\u001b[0;31mImportError\u001b[0m                               Traceback (most recent call last)",
      "\u001b[0;32m<ipython-input-1-dc7e4f5fca86>\u001b[0m in \u001b[0;36m<module>\u001b[0;34m\u001b[0m\n\u001b[1;32m      8\u001b[0m \u001b[0;32mfrom\u001b[0m \u001b[0mmodels\u001b[0m\u001b[0;34m.\u001b[0m\u001b[0mtrained_models\u001b[0m\u001b[0;34m.\u001b[0m\u001b[0munet_wavelet\u001b[0m \u001b[0;32mimport\u001b[0m \u001b[0mUNetWavelet\u001b[0m\u001b[0;34m\u001b[0m\u001b[0;34m\u001b[0m\u001b[0m\n\u001b[1;32m      9\u001b[0m \u001b[0;34m\u001b[0m\u001b[0m\n\u001b[0;32m---> 10\u001b[0;31m \u001b[0;32mfrom\u001b[0m \u001b[0mutils\u001b[0m\u001b[0;34m.\u001b[0m\u001b[0mimage_helpers\u001b[0m \u001b[0;32mimport\u001b[0m \u001b[0mplot_image_grid\u001b[0m\u001b[0;34m,\u001b[0m \u001b[0mrgb2gray\u001b[0m\u001b[0;34m,\u001b[0m \u001b[0mimage_to_tensor\u001b[0m\u001b[0;34m,\u001b[0m \u001b[0mtensor_to_image\u001b[0m\u001b[0;34m\u001b[0m\u001b[0;34m\u001b[0m\u001b[0m\n\u001b[0m\u001b[1;32m     11\u001b[0m \u001b[0;32mfrom\u001b[0m \u001b[0mutils\u001b[0m\u001b[0;34m.\u001b[0m\u001b[0mconfiguration_helpers\u001b[0m \u001b[0;32mimport\u001b[0m \u001b[0mModelFittingConfiguration\u001b[0m\u001b[0;34m\u001b[0m\u001b[0;34m\u001b[0m\u001b[0m\n\u001b[1;32m     12\u001b[0m \u001b[0;32mfrom\u001b[0m \u001b[0mmodels\u001b[0m\u001b[0;34m.\u001b[0m\u001b[0mmodel_creation\u001b[0m \u001b[0;32mimport\u001b[0m \u001b[0mcreate_model_from_configuration\u001b[0m\u001b[0;34m\u001b[0m\u001b[0;34m\u001b[0m\u001b[0m\n",
      "\u001b[0;31mImportError\u001b[0m: cannot import name 'rgb2gray'"
     ]
    }
   ],
   "source": [
    "import torch\n",
    "import os\n",
    "import numpy as np\n",
    "from matplotlib import pyplot as plt\n",
    "import warnings\n",
    "warnings.filterwarnings(\"ignore\")\n",
    "\n",
    "from models.trained_models.unet_wavelet import UNetWavelet\n",
    "\n",
    "from utils.image_helpers import plot_image_grid, rgb2gray, image_to_tensor, tensor_to_image\n",
    "from utils.configuration_helpers import ModelFittingConfiguration\n",
    "from models.model_creation import create_model_from_configuration\n",
    "from fitting.Fitter import create_fitter_from_configuration\n",
    "from simulation.SimulationPipeline import SimulationPipeline\n",
    "\n",
    "GPU = True\n",
    "if GPU == True:\n",
    "    torch.backends.cudnn.enabled = True\n",
    "    torch.backends.cudnn.benchmark = True\n",
    "    dtype = torch.cuda.FloatTensor\n",
    "    os.environ['CUDA_VISIBLE_DEVICES'] = '1'\n",
    "    print(\"num GPUs\",torch.cuda.device_count())\n",
    "else:\n",
    "    dtype = torch.FloatTensor"
   ]
  },
  {
   "cell_type": "markdown",
   "metadata": {},
   "source": [
    "# Configuration"
   ]
  },
  {
   "cell_type": "code",
   "execution_count": null,
   "metadata": {},
   "outputs": [],
   "source": [
    "image_size = (100, 100)\n",
    "k_factor = 0.15\n",
    "pf_factor = 1.0\n",
    "snr = 16"
   ]
  },
  {
   "cell_type": "markdown",
   "metadata": {},
   "source": [
    "# Create Image & Simulate Gibbs"
   ]
  },
  {
   "cell_type": "code",
   "execution_count": null,
   "metadata": {},
   "outputs": [],
   "source": [
    "def create_diagonal_contrast(size):\n",
    "    return np.triu(np.ones(shape=size))\n",
    "\n",
    "def create_vertical_contrast(size, line_width=None):\n",
    "    x, y = size\n",
    "    left_half = np.ones((x,y//2))\n",
    "    if line_width is not None:\n",
    "        middle_index = left_half.shape[1]//2\n",
    "        left_half[:,middle_index-line_width:middle_index+line_width] = 0\n",
    "    right_half = np.zeros((x,y//2))\n",
    "    return np.concatenate((left_half, right_half), axis=1)"
   ]
  },
  {
   "cell_type": "code",
   "execution_count": null,
   "metadata": {},
   "outputs": [],
   "source": [
    "diagonal_image = create_diagonal_contrast(image_size)\n",
    "vertical_image = create_vertical_contrast(image_size, line_width=0)"
   ]
  },
  {
   "cell_type": "code",
   "execution_count": null,
   "metadata": {
    "scrolled": true
   },
   "outputs": [],
   "source": [
    "pipeline = SimulationPipeline(k_factor=k_factor, pf_factor=1.0, snr=32)\n",
    "diagonal_noisy_image = pipeline.simulate(diagonal_image)\n",
    "vertical_noisy_image = pipeline.simulate(vertical_image)"
   ]
  },
  {
   "cell_type": "code",
   "execution_count": null,
   "metadata": {
    "scrolled": false
   },
   "outputs": [],
   "source": [
    "images = [diagonal_noisy_image, diagonal_image, vertical_noisy_image, vertical_image]\n",
    "titles = ['Diagonal Noisy', 'Diagonal Target', 'Vertical Noisy', 'Vertical Target']\n",
    "plot = plot_image_grid(images, titles, ncols=2)"
   ]
  },
  {
   "cell_type": "markdown",
   "metadata": {},
   "source": [
    "# Fitting Deep Decoder"
   ]
  },
  {
   "cell_type": "code",
   "execution_count": null,
   "metadata": {},
   "outputs": [],
   "source": [
    "number_of_runs = 10\n",
    "\n",
    "config = ModelFittingConfiguration()\n",
    "config.model_type = 'deep'\n",
    "config.input_shape = [14, 14]\n",
    "config.number_of_hidden_channels = 40\n",
    "config.number_of_layers = 5\n",
    "config.log_frequency = 100\n",
    "config.convergence_check_length = None\n",
    "config.number_of_iterations = 3000\n",
    "config.image_dimensions = (100,100,1)\n",
    "config.find_best = True\n",
    "config.save_losses = False\n",
    "print(config)"
   ]
  },
  {
   "cell_type": "code",
   "execution_count": null,
   "metadata": {},
   "outputs": [],
   "source": [
    "vertical_model_images = []\n",
    "diagonal_model_images = []\n",
    "\n",
    "fitter = create_fitter_from_configuration(config)\n",
    "\n",
    "for index in range(number_of_runs):\n",
    "    model = create_model_from_configuration(config)\n",
    "    log_prefix = f'Run {2*index+1}/{number_of_runs*2}, '\n",
    "    fitter(model, diagonal_noisy_image, log_prefix=log_prefix)\n",
    "    diagonal_model_image = fitter.get_best_image()\n",
    "    diagonal_model_images.append(diagonal_model_image)\n",
    "    \n",
    "    model = create_model_from_configuration(config)\n",
    "    log_prefix = f'Run {2*index+2}/{number_of_runs*2}, '\n",
    "    fitter(model, vertical_noisy_image, log_prefix=log_prefix)\n",
    "    vertical_model_image = fitter.get_best_image()\n",
    "    vertical_model_images.append(vertical_model_image)\n",
    "\n",
    "\n",
    "titles = ['Noisy Image' , 'Model Image', 'Target Image']\n",
    "diagonal_model_image = np.mean(diagonal_model_images, axis=0)\n",
    "plot_image_grid([diagonal_noisy_image, diagonal_model_image, diagonal_image], titles)\n",
    "\n",
    "vertical_model_image = np.mean(vertical_model_images, axis=0) \n",
    "plot_image_grid([vertical_noisy_image, vertical_model_image, vertical_image], titles)\n",
    "plt.show()"
   ]
  },
  {
   "cell_type": "markdown",
   "metadata": {},
   "source": [
    "# Load & Apply Trained Model"
   ]
  },
  {
   "cell_type": "code",
   "execution_count": null,
   "metadata": {},
   "outputs": [],
   "source": [
    "path = 'models/trained_models/unet_magintude_pffact_8_snrlog0-5_nlayers_10.pt'\n",
    "trained_model = UNetWavelet(in_ch=1, out_ch=1)\n",
    "trained_model.load_state_dict(torch.load(path))\n",
    "trained_model = trained_model.type(dtype)\n",
    "trained_model = trained_model.eval()\n",
    "for param in trained_model.parameters():\n",
    "    param.requires_grad = False\n",
    "#print(list(trained_model.parameters())[0].shape)\n",
    "#summary(trained_model, (1, 100, 100), dtypes=[torch.cuda.FloatTensor], depth=3)"
   ]
  },
  {
   "cell_type": "code",
   "execution_count": null,
   "metadata": {},
   "outputs": [],
   "source": [
    "vertical_noisy_tensor = image_to_tensor(vertical_noisy_image).unsqueeze(0).type(dtype)\n",
    "diagonal_noisy_tensor = image_to_tensor(diagonal_noisy_image).unsqueeze(0).type(dtype)\n",
    "vertical_trained_tensor = trained_model(vertical_noisy_tensor)\n",
    "diagonal_trained_tensor = trained_model(diagonal_noisy_tensor)\n",
    "vertical_trained = tensor_to_image(vertical_trained_tensor.cpu().squeeze(0))\n",
    "diagonal_trained = tensor_to_image(diagonal_trained_tensor.cpu().squeeze(0))\n",
    "\n",
    "\n",
    "titles = ['Noisy Image' , 'Model Image', 'Target Image']\n",
    "plot_image_grid([vertical_noisy_image, vertical_trained, vertical_image], titles)\n",
    "plot_image_grid([diagonal_noisy_image, diagonal_trained, diagonal_image], titles)\n",
    "\n",
    "plt.show()"
   ]
  },
  {
   "cell_type": "markdown",
   "metadata": {},
   "source": [
    "# Plotting Results regarding edges"
   ]
  },
  {
   "cell_type": "code",
   "execution_count": null,
   "metadata": {},
   "outputs": [],
   "source": [
    "def calculate_diagonal_profile(image):\n",
    "    diags = [image.diagonal(i) for i in range(image.shape[1]-1,-image.shape[0],-1)]\n",
    "    return [np.mean(diag) for diag in diags]\n",
    "\n",
    "def calculate_vertical_profile(image):\n",
    "    columns = np.mean(image, axis=0)\n",
    "    return columns"
   ]
  },
  {
   "cell_type": "code",
   "execution_count": null,
   "metadata": {},
   "outputs": [],
   "source": [
    "plt.figure(figsize=(15,10))\n",
    "plt.plot(calculate_vertical_profile(vertical_noisy_image),label=\"Noisy\")\n",
    "plt.plot(calculate_vertical_profile(vertical_model_image),label=\"Deep Decoder\")\n",
    "plt.plot(calculate_vertical_profile(vertical_trained),label=\"Trained Net\")\n",
    "plt.title('Angle = 0°')\n",
    "plt.xlabel('Image Pixel Index')\n",
    "plt.ylabel('Signal')\n",
    "plt.legend()\n",
    "plt.show()"
   ]
  },
  {
   "cell_type": "code",
   "execution_count": null,
   "metadata": {},
   "outputs": [],
   "source": [
    "plt.figure(figsize=(15,10))\n",
    "plt.plot(calculate_diagonal_profile(diagonal_noisy_image),label=\"Noisy\")\n",
    "plt.plot(calculate_diagonal_profile(diagonal_model_image),label=\"Deep Decoder\")\n",
    "plt.plot(calculate_diagonal_profile(diagonal_trained),label=\"Trained Net\")\n",
    "plt.title('Angle = 45°')\n",
    "plt.xlabel('Image Pixel Index')\n",
    "plt.ylabel('Signal')\n",
    "plt.legend()\n",
    "plt.show()"
   ]
  }
 ],
 "metadata": {
  "kernelspec": {
   "display_name": "Python 3",
   "language": "python",
   "name": "python3"
  },
  "language_info": {
   "codemirror_mode": {
    "name": "ipython",
    "version": 3
   },
   "file_extension": ".py",
   "mimetype": "text/x-python",
   "name": "python",
   "nbconvert_exporter": "python",
   "pygments_lexer": "ipython3",
   "version": "3.6.9"
  }
 },
 "nbformat": 4,
 "nbformat_minor": 4
}
