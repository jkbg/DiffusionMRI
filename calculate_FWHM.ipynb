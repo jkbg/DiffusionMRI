{
 "cells": [
  {
   "cell_type": "code",
   "execution_count": 1,
   "metadata": {},
   "outputs": [],
   "source": [
    "import numpy as np\n",
    "import scipy.optimize as opt\n",
    "from scipy.signal import peak_widths\n",
    "import matplotlib.pyplot as plt"
   ]
  },
  {
   "cell_type": "code",
   "execution_count": 2,
   "metadata": {},
   "outputs": [],
   "source": [
    "alphas = [1/3, 1/3, 1/3]\n",
    "betas = [50., 50., 50.]\n",
    "gammas = [5., 5., 5.]\n",
    "c = 0"
   ]
  },
  {
   "cell_type": "code",
   "execution_count": 3,
   "metadata": {},
   "outputs": [],
   "source": [
    "def logistic_function(x, alpha, beta, gamma):\n",
    "    return alpha / (1. + np.exp((x - beta) / gamma))\n",
    "\n",
    "\n",
    "def logistic_sum(x, a1, a2, a3, b1, b2, b3, g1, g2, g3, c):\n",
    "    alphas = [a1, a2, a3]\n",
    "    betas = [b1, b2, b3]\n",
    "    gammas = [g1, g2, g3]\n",
    "    out = 0.0\n",
    "    for (alpha, beta, gamma) in zip(alphas, betas, gammas):\n",
    "        out += logistic_function(x, alpha, beta, gamma)\n",
    "    out += c\n",
    "    return out"
   ]
  },
  {
   "cell_type": "code",
   "execution_count": 4,
   "metadata": {},
   "outputs": [],
   "source": [
    "number_of_pixels = 100\n",
    "accuracy_factor = 10000\n",
    "x = np.linspace(0, number_of_pixels, number_of_pixels)\n",
    "ground_truth = logistic_sum(x, *alphas, *betas, *gammas, c)\n",
    "row = logistic_sum(x, *alphas, *betas, *gammas, c) +  0.2 * alphas[0] * np.random.randn(number_of_pixels)"
   ]
  },
  {
   "cell_type": "code",
   "execution_count": 5,
   "metadata": {},
   "outputs": [],
   "source": [
    "def calculate_full_width_half_maximum_value(row, accuracy_factor=100):\n",
    "    number_of_pixels = len(row)\n",
    "    x = np.linspace(0, number_of_pixels, num=number_of_pixels * accuracy_factor)\n",
    "    estimated_parameters = [0.3, 0.3, 0.3,\n",
    "                            number_of_pixels / 2., number_of_pixels / 2., number_of_pixels / 2.,\n",
    "                            1., 1., 1.,\n",
    "                            0]\n",
    "    (a1, a2, a3, b1, b2, b3, g1, g2, g3, c), _ = opt.curve_fit(logistic_sum,\n",
    "                                                               np.arange(number_of_pixels),\n",
    "                                                               row,\n",
    "                                                               p0=estimated_parameters)\n",
    "    alphas = [a1, a2, a3]\n",
    "    betas = [b1, b2, b3]\n",
    "    gammas = [g1, g2, g3]\n",
    "    fitted_row = logistic_sum(x, *alphas, *betas, *gammas, c)\n",
    "    differences = -np.diff(fitted_row)\n",
    "    half_max = np.max(differences)/2.\n",
    "    indices = np.where(np.diff(np.sign(differences - half_max)))[0]\n",
    "    return (indices[-1] - indices[0])/accuracy_factor, fitted_row"
   ]
  },
  {
   "cell_type": "code",
   "execution_count": 6,
   "metadata": {},
   "outputs": [
    {
     "name": "stderr",
     "output_type": "stream",
     "text": [
      "/opt/conda/lib/python3.6/site-packages/ipykernel_launcher.py:2: RuntimeWarning: overflow encountered in exp\n",
      "  \n"
     ]
    }
   ],
   "source": [
    "fwhm1, fitted_row1 = calculate_full_width_half_maximum_value(row, accuracy_factor=accuracy_factor)"
   ]
  },
  {
   "cell_type": "code",
   "execution_count": 7,
   "metadata": {},
   "outputs": [
    {
     "data": {
      "text/plain": [
       "[<matplotlib.lines.Line2D at 0x7fdfa9e8a198>]"
      ]
     },
     "execution_count": 7,
     "metadata": {},
     "output_type": "execute_result"
    },
    {
     "data": {
      "image/png": "[encoded data removed]",
      "text/plain": [
       "<Figure size 432x288 with 1 Axes>"
      ]
     },
     "metadata": {
      "needs_background": "light"
     },
     "output_type": "display_data"
    }
   ],
   "source": [
    "fig, ax = plt.subplots(1, 1, figsize=(6, 4))\n",
    "ax.plot(x, ground_truth, '--k')\n",
    "ax.plot(x, row, 'o')"
   ]
  },
  {
   "cell_type": "code",
   "execution_count": 8,
   "metadata": {},
   "outputs": [
    {
     "name": "stderr",
     "output_type": "stream",
     "text": [
      "/opt/conda/lib/python3.6/site-packages/scipy/optimize/minpack.py:829: OptimizeWarning: Covariance of the parameters could not be estimated\n",
      "  category=OptimizeWarning)\n"
     ]
    }
   ],
   "source": [
    "np.seterr(all='ignore')\n",
    "estimate = [0.3, 0.3, 0.3, 50., 50., 50., 1., 1., 1., 0.]\n",
    "(a1_, a2_, a3_, b1_, b2_, b3_, g1_, g2_, g3_, c_), _ = opt.curve_fit(logistic_sum, x, row,  p0=estimate)\n",
    "alphas_= [a1_, a2_, a3_]\n",
    "betas_ = [b1_, b2_, b3_]\n",
    "gammas_ = [g1_, g2_, g3_]\n",
    "c_ = c_"
   ]
  },
  {
   "cell_type": "code",
   "execution_count": 9,
   "metadata": {},
   "outputs": [
    {
     "data": {
      "text/plain": [
       "[<matplotlib.lines.Line2D at 0x7fdfa9d9d0b8>]"
      ]
     },
     "execution_count": 9,
     "metadata": {},
     "output_type": "execute_result"
    },
    {
     "data": {
      "image/png": "[encoded data removed]",
      "text/plain": [
       "<Figure size 432x288 with 1 Axes>"
      ]
     },
     "metadata": {
      "needs_background": "light"
     },
     "output_type": "display_data"
    }
   ],
   "source": [
    "fitted_row2 = logistic_sum(x, *alphas_, *betas_, *gammas_, c_)\n",
    "fig, ax = plt.subplots(1, 1, figsize=(6, 4))\n",
    "#ax.plot(x, ground_truth, '--k')\n",
    "#ax.plot(x, row, 'o')\n",
    "ax.plot(x, fitted_row2, '-')\n",
    "ax.plot(np.linspace(0, number_of_pixels, num=number_of_pixels*accuracy_factor), fitted_row1)"
   ]
  },
  {
   "cell_type": "code",
   "execution_count": 10,
   "metadata": {},
   "outputs": [],
   "source": [
    "def diff_sum(x, alphas, betas, gammas):\n",
    "    out = 0.0\n",
    "    for (alpha, beta, gamma) in zip(alphas, betas, gammas):\n",
    "        out += np.nan_to_num(diff(x, alpha, beta, gamma))\n",
    "    return out\n",
    "\n",
    "def diff(x, alpha, beta, gamma):\n",
    "    return alpha * np.exp((x-beta)/gamma) / (gamma * (1. + np.exp((x - beta)/gamma))**2)"
   ]
  },
  {
   "cell_type": "code",
   "execution_count": 11,
   "metadata": {},
   "outputs": [
    {
     "name": "stdout",
     "output_type": "stream",
     "text": [
      "[0.1736110434753967, 0.04689748785722679, 0.8038676562800973]\n",
      "[57.57767702853056, 75.5320796307696, 47.959952137841825]\n",
      "[0.012483473954224557, 0.0037695947762265147, 4.578390578758901]\n"
     ]
    },
    {
     "data": {
      "text/plain": [
       "[<matplotlib.lines.Line2D at 0x7fdfa9cfffd0>]"
      ]
     },
     "execution_count": 11,
     "metadata": {},
     "output_type": "execute_result"
    },
    {
     "data": {
      "image/png": "[encoded data removed]",
      "text/plain": [
       "<Figure size 432x288 with 1 Axes>"
      ]
     },
     "metadata": {
      "needs_background": "light"
     },
     "output_type": "display_data"
    }
   ],
   "source": [
    "fit_diff = -np.diff(fitted_row2)\n",
    "print(alphas_)\n",
    "print(betas_)\n",
    "print(gammas_)\n",
    "fig, ax = plt.subplots(1, 1, figsize=(6, 4))\n",
    "ax.plot(x[1:], fit_diff, '--k')\n",
    "#ax.plot(x_big, y_fit, '-')"
   ]
  },
  {
   "cell_type": "code",
   "execution_count": 12,
   "metadata": {},
   "outputs": [
    {
     "name": "stdout",
     "output_type": "stream",
     "text": [
      "0.054636411751798564\n",
      "0.0041 2\n"
     ]
    }
   ],
   "source": [
    "half_max = np.max(fit_diff) / 2.\n",
    "print(half_max)\n",
    "d = np.array(fit_diff) - half_max\n",
    "indices = np.where(np.diff(np.sign(d)))[0]\n",
    "fwhm2 = list(indices)[-1] - list(indices)[0]\n",
    "print(fwhm1, fwhm2)"
   ]
  },
  {
   "cell_type": "code",
   "execution_count": null,
   "metadata": {},
   "outputs": [],
   "source": []
  }
 ],
 "metadata": {
  "kernelspec": {
   "display_name": "Python 3",
   "language": "python",
   "name": "python3"
  },
  "language_info": {
   "codemirror_mode": {
    "name": "ipython",
    "version": 3
   },
   "file_extension": ".py",
   "mimetype": "text/x-python",
   "name": "python",
   "nbconvert_exporter": "python",
   "pygments_lexer": "ipython3",
   "version": "3.6.9"
  }
 },
 "nbformat": 4,
 "nbformat_minor": 4
}
